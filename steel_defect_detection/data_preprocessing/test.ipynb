{
 "cells": [
  {
   "metadata": {
    "ExecuteTime": {
     "end_time": "2024-12-09T13:44:40.032841Z",
     "start_time": "2024-12-09T13:44:39.446037Z"
    }
   },
   "cell_type": "code",
   "source": "import torch",
   "id": "a8dda512e95abe33",
   "outputs": [],
   "execution_count": 15
  },
  {
   "metadata": {
    "ExecuteTime": {
     "end_time": "2024-12-09T13:47:15.805530Z",
     "start_time": "2024-12-09T13:47:15.803571Z"
    }
   },
   "cell_type": "code",
   "source": "x = torch.tensor([0.1, 0.2, 0.1, 0.25, 0.23, 0.01, 0.01, 0.01, 0.02, 0.03, 0.04, 0.05, 0.01, 0.02, 0.03, 0.04, 0.05])",
   "id": "f3f6aa370d1270fc",
   "outputs": [],
   "execution_count": 20
  },
  {
   "metadata": {
    "ExecuteTime": {
     "end_time": "2024-12-09T13:48:04.382715Z",
     "start_time": "2024-12-09T13:48:04.371557Z"
    }
   },
   "cell_type": "code",
   "source": [
    "import torch.nn.functional as F\n",
    "\n",
    "x = F.softmax(x)\n",
    "x"
   ],
   "id": "7d508ca036241283",
   "outputs": [
    {
     "name": "stderr",
     "output_type": "stream",
     "text": [
      "/tmp/ipykernel_203821/4085630860.py:3: UserWarning: Implicit dimension choice for softmax has been deprecated. Change the call to include dim=X as an argument.\n",
      "  x = F.softmax(x)\n"
     ]
    },
    {
     "data": {
      "text/plain": [
       "tensor([0.0602, 0.0665, 0.0633, 0.0699, 0.0686, 0.0550, 0.0550, 0.0550, 0.0556,\n",
       "        0.0561, 0.0567, 0.0573, 0.0550, 0.0556, 0.0561, 0.0567, 0.0573])"
      ]
     },
     "execution_count": 23,
     "metadata": {},
     "output_type": "execute_result"
    }
   ],
   "execution_count": 23
  },
  {
   "metadata": {
    "ExecuteTime": {
     "end_time": "2024-12-09T13:48:14.098361Z",
     "start_time": "2024-12-09T13:48:14.096058Z"
    }
   },
   "cell_type": "code",
   "source": "x.sum()",
   "id": "b608ae062861d7c7",
   "outputs": [
    {
     "data": {
      "text/plain": [
       "tensor(1.)"
      ]
     },
     "execution_count": 24,
     "metadata": {},
     "output_type": "execute_result"
    }
   ],
   "execution_count": 24
  },
  {
   "metadata": {
    "ExecuteTime": {
     "end_time": "2024-12-09T13:48:19.487734Z",
     "start_time": "2024-12-09T13:48:19.485579Z"
    }
   },
   "cell_type": "code",
   "source": "x.argmax(d)",
   "id": "d2f0aeece2930714",
   "outputs": [
    {
     "data": {
      "text/plain": [
       "tensor(3)"
      ]
     },
     "execution_count": 25,
     "metadata": {},
     "output_type": "execute_result"
    }
   ],
   "execution_count": 25
  },
  {
   "metadata": {},
   "cell_type": "code",
   "outputs": [],
   "execution_count": null,
   "source": "",
   "id": "7eb076157c69084d"
  }
 ],
 "metadata": {
  "kernelspec": {
   "display_name": "Python 3",
   "language": "python",
   "name": "python3"
  },
  "language_info": {
   "codemirror_mode": {
    "name": "ipython",
    "version": 2
   },
   "file_extension": ".py",
   "mimetype": "text/x-python",
   "name": "python",
   "nbconvert_exporter": "python",
   "pygments_lexer": "ipython2",
   "version": "2.7.6"
  }
 },
 "nbformat": 4,
 "nbformat_minor": 5
}
